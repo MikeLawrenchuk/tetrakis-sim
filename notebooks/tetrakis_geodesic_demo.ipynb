# Tetrakis Lattice Geodesic Bending Demo

This notebook demonstrates how a +45° wedge deficit (point-mass curvature analog) in a degree‑19 tetrakis-square lattice distorts the shortest-path ("geodesic") distances from a source vertex.

The lattice and defect logic are imported from the modular `tetrakis_sim` package.  
You can adjust grid size or defect position easily for further exploration.

**Author:** Mike Lawrenchuk


from tetrakis_sim.lattice import build_sheet
from tetrakis_sim.defects import apply_wedge_defect
import networkx as nx
import matplotlib.pyplot as plt


# Grid parameters
size = 30                   # Lattice width/height (change as desired)
defect_center = (15, 15)    # Where to place the wedge defect

# Build the tetrakis-square grid
G = build_sheet(size=size)

# Apply a +45° wedge deficit at the chosen center
G = apply_wedge_defect(G, center=defect_center)

print(f"Vertices: {G.number_of_nodes()}, edges: {G.number_of_edges()}")



# Select the source node (can adjust as needed)
source = (0, 0, 'A')

# Compute shortest-path ("geodesic") distances from the source node
dists = nx.single_source_shortest_path_length(G, source)

# For visualization, extract planar coordinates for each triangle vertex
xs, ys, ds = [], [], []
for (r, c, q), d in dists.items():
    # Slightly offset each triangle quadrant for clear plotting
    offset = {'A':(-0.25,  0.25),
              'B':( 0.25,  0.25),
              'C':(-0.25, -0.25),
              'D':( 0.25, -0.25)}[q]
    xs.append(c + offset[0])
    ys.append(r + offset[1])
    ds.append(d)

print("Maximum graph distance in window:", max(ds))


plt.figure(figsize=(7,7))
sc = plt.scatter(xs, ys, c=ds, s=7, cmap='plasma')
plt.colorbar(sc, label='Graph distance from source')
plt.gca().set_aspect('equal')
plt.title(f'Geodesic wavefront distorted by +45° wedge at {defect_center}')
plt.xlabel('Column index')
plt.ylabel('Row index')
plt.tight_layout()
plt.show()

## Further Exploration

- Change `size` or `defect_center` above and re-run the notebook.
- Try other source vertices (e.g., `(size//2, size//2, 'A')` for a central launch).
- Compare the result with and without a defect by commenting out `apply_wedge_defect`.
- Analyze how the "wavefront" bends or stretches near the defect.

