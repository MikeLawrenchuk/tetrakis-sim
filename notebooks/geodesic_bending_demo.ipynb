{
 "cells": [
  {
   "cell_type": "markdown",
   "id": "9e49a483",
   "metadata": {},
   "source": [
    "# Geodesic Bending in a Degree‑19 Tetrakis Lattice\n",
    "\n",
    "This minimal notebook builds a $30\\times30$ patch of the right‑isosceles tetrakis‑square tiling with **row/column uniqueness constraints only** (degree 19 graph).  \n",
    "We then remove one internal edge (a +45° wedge deficit) to model a point mass and visualise how the graph‑geodesic distance from a source deviates from circular symmetry.\n",
    "\n",
    "> Author: Mike Lawrenchuk (auto‑generated demo)"
   ]
  },
  {
   "cell_type": "code",
   "execution_count": null,
   "id": "de398ffd",
   "metadata": {},
   "outputs": [],
   "source": [
    "import networkx as nx\n",
    "import matplotlib.pyplot as plt\n",
    "from itertools import product\n",
    "\n",
    "def build_degree19_sheet(n=30):\n",
    "    \"\"\"Return NetworkX graph for n×n tetrakis patch with degree 19 rules.\"\"\"\n",
    "    tri = [(r, c, q) for r in range(n) for c in range(n) for q in 'ABCD']\n",
    "    G = nx.Graph()\n",
    "    G.add_nodes_from(tri)\n",
    "\n",
    "    def clique(vs):\n",
    "        for i, v in enumerate(vs):\n",
    "            for w in vs[i+1:]:\n",
    "                G.add_edge(v, w)\n",
    "\n",
    "    # intra-cell 4‑cliques\n",
    "    for r, c in product(range(n), repeat=2):\n",
    "        clique([(r, c, q) for q in 'ABCD'])\n",
    "\n",
    "    # row & column constraints (same quadrant)\n",
    "    for r in range(n):\n",
    "        for q in 'ABCD':\n",
    "            clique([(r, c, q) for c in range(n)])\n",
    "    for c in range(n):\n",
    "        for q in 'ABCD':\n",
    "            clique([(r, c, q) for r in range(n)])\n",
    "\n",
    "    return G\n",
    "\n",
    "# Build graph and inject curvature by removing one edge\n",
    "G = build_degree19_sheet()\n",
    "G.remove_edge((15, 15, 'A'), (15, 15, 'B'))   # +45° wedge at centre\n",
    "\n",
    "# Choose source vertex\n",
    "source = (0, 0, 'A')\n",
    "print(f\"Vertices: {G.number_of_nodes()}, edges: {G.number_of_edges()}\")\n"
   ]
  },
  {
   "cell_type": "code",
   "execution_count": null,
   "id": "edfe5841",
   "metadata": {},
   "outputs": [],
   "source": [
    "# Compute geodesic distances from the source\n",
    "dists = nx.single_source_shortest_path_length(G, source)\n",
    "\n",
    "# Extract planar coordinates for plotting\n",
    "xs, ys, ds = [], [], []\n",
    "for (r, c, q), d in dists.items():\n",
    "    # Use square centres as coordinates; offset triangles slightly for visibility\n",
    "    offset = {'A':( -0.25,  0.25),\n",
    "              'B':(  0.25,  0.25),\n",
    "              'C':( -0.25, -0.25),\n",
    "              'D':(  0.25, -0.25)}[q]\n",
    "    xs.append(c + offset[0])\n",
    "    ys.append(r + offset[1])\n",
    "    ds.append(d)\n",
    "\n",
    "print(\"Max graph distance in window:\", max(ds))\n"
   ]
  },
  {
   "cell_type": "code",
   "execution_count": null,
   "id": "42edbe71",
   "metadata": {},
   "outputs": [],
   "source": [
    "plt.figure(figsize=(6,6))\n",
    "sc = plt.scatter(xs, ys, c=ds, s=6, cmap='plasma')\n",
    "plt.colorbar(sc, label='Graph distance from source')\n",
    "plt.gca().set_aspect('equal')\n",
    "plt.title('Geodesic wavefront distorted by +45° wedge at (15,15)')\n",
    "plt.xlabel('Column index'); plt.ylabel('Row index')\n",
    "plt.show()\n"
   ]
  }
 ],
 "metadata": {
  "kernelspec": {
   "display_name": "Python 3 (ipykernel)",
   "language": "python",
   "name": "python3"
  },
  "language_info": {
   "codemirror_mode": {
    "name": "ipython",
    "version": 3
   },
   "file_extension": ".py",
   "mimetype": "text/x-python",
   "name": "python",
   "nbconvert_exporter": "python",
   "pygments_lexer": "ipython3",
   "version": "3.11.9"
  }
 },
 "nbformat": 4,
 "nbformat_minor": 5
}
