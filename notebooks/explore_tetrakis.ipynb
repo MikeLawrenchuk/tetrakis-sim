from tetrakis_sim.lattice import build_sheet
from tetrakis_sim.defects import apply_wedge_defect
import networkx as nx
import matplotlib.pyplot as plt

# Build a 9x9 grid
G = build_sheet(size=9)

# Apply a wedge defect
G = apply_wedge_defect(G)

# Visualize
plt.figure(figsize=(8,8))
nx.draw(G, with_labels=False, node_size=10)
plt.title("Tetrakis-square Lattice with Wedge Defect")
plt.show()
